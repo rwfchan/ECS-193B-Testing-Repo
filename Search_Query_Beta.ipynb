{
  "nbformat": 4,
  "nbformat_minor": 0,
  "metadata": {
    "colab": {
      "name": "Search Query Beta.ipynb",
      "provenance": [],
      "collapsed_sections": [],
      "include_colab_link": true
    },
    "kernelspec": {
      "name": "python3",
      "display_name": "Python 3"
    },
    "language_info": {
      "name": "python"
    }
  },
  "cells": [
    {
      "cell_type": "markdown",
      "metadata": {
        "id": "view-in-github",
        "colab_type": "text"
      },
      "source": [
        "<a href=\"https://colab.research.google.com/github/rwfchan/ECS-193B-Testing-Repo/blob/main/Search_Query_Beta.ipynb\" target=\"_parent\"><img src=\"https://colab.research.google.com/assets/colab-badge.svg\" alt=\"Open In Colab\"/></a>"
      ]
    },
    {
      "cell_type": "code",
      "metadata": {
        "id": "jurtslKNIdRP"
      },
      "source": [
        "pip install mysql-connector-python"
      ],
      "execution_count": null,
      "outputs": []
    },
    {
      "cell_type": "code",
      "metadata": {
        "id": "mwz-_1pIvdbc"
      },
      "source": [
        "def write_file(data, filename):\n",
        "    # Convert binary data to proper format and write it on Hard Disk\n",
        "    with open(filename, 'wb') as file:\n",
        "        file.write(data)"
      ],
      "execution_count": null,
      "outputs": []
    },
    {
      "cell_type": "code",
      "metadata": {
        "id": "pUwIZpJwy_cm"
      },
      "source": [
        "import mysql.connector\n",
        "\n",
        "def resumeFilter(path, jobs = None, degrees = None, majors = None , skills = None):\n",
        "  try:\n",
        "    mydb = mysql.connector.connect(host=\"00.000.00.000\", user=\"root\", passwd=\"EDIT\", database=\"EDIT\")\n",
        "    print(\"Connection to MySQL DB successful\")\n",
        "  except Error as e:\n",
        "    print(f\"The error '{e}' occurred\")\n",
        "  \n",
        "  mycursor = mydb.cursor()\n",
        "\n",
        "  job_list = []\n",
        "  degree = []\n",
        "  skill_list = []\n",
        "  major_list = []\n",
        "\n",
        "  if jobs:\n",
        "    for job in jobs.split(' '):\n",
        "      job_list.append(job)\n",
        "  \n",
        "  if majors:\n",
        "    for major in majors.split(' '):\n",
        "      major_list.append(major)\n",
        "  \n",
        "  if degrees:\n",
        "    degrees = degrees.lower()\n",
        "    if degrees[0] == 'b':\n",
        "      degree = ['BS','B S', 'bachelor']\n",
        "    elif degrees[0] == 'm':\n",
        "      degree = ['master', 'M S', 'MS']\n",
        "    elif degrees[0] == 'p':\n",
        "      degree = ['PhD', 'Ph D', 'Philosophy']\n",
        "    else:\n",
        "      print('no such degree')\n",
        "      degree = []\n",
        "  \n",
        "  if skills:\n",
        "    skill_list = skills.split(',')\n",
        "  \n",
        "  query = \"SELECT * FROM csv_output.resume_analyze_output WHERE \"\n",
        "\n",
        "  if job_list:\n",
        "    job_query = \"(\"\n",
        "    for job in job_list:\n",
        "      job_query += \"Position LIKE '%\" + job + \"%' AND \"\n",
        "    job_query = job_query[:-5] + \")\"\n",
        "    query += job_query\n",
        "\n",
        "  #print(query)\n",
        "\n",
        "  if job_list and degree:\n",
        "    query += \" AND \"\n",
        "  \n",
        "  if degree:\n",
        "    degree_query = \"(\"\n",
        "    for degree_title in degree:\n",
        "      degree_query += \"SchoolDegree LIKE '%\" + degree_title + \"%' OR \"\n",
        "    degree_query = degree_query[:-4] + \")\"\n",
        "    query += degree_query\n",
        "\n",
        "  #print(query)\n",
        "\n",
        "  if (job_list or degree) and skill_list:\n",
        "    query += \" AND \"\n",
        "  \n",
        "  if skill_list:\n",
        "    skill_query = \"(\"\n",
        "    for skill in skill_list:\n",
        "      skill_query += \"Skill LIKE '%\" + skill + \"%' AND \"\n",
        "    skill_query = skill_query[:-5] + \")\"\n",
        "    query += skill_query\n",
        "  \n",
        "  #print(query)\n",
        "\n",
        "  if (job_list or degree or skill_list) and major_list:\n",
        "    query += \" AND \"\n",
        "  \n",
        "  if major_list:\n",
        "    major_query = \"(\"\n",
        "    for major in major_list:\n",
        "      major_query += \"SchoolDegree LIKE '%\" + major + \"%' AND \"\n",
        "    major_query = major_query[:-5] + \")\"\n",
        "    query += major_query\n",
        "  \n",
        "  #print(query)\n",
        "\n",
        "  import pandas as pd\n",
        "  print(\"Reading BLOB data from python_employee table\")\n",
        "\n",
        "  try:\n",
        "        \n",
        "      mycursor.execute(query)\n",
        "      record = mycursor.fetchall()\n",
        "      print(record)\n",
        "      # print(\"gg\")\n",
        "      # df = pd.read_sql_table(sql_fetch_blob_query)\n",
        "      for row in record:\n",
        "          print(\"Binary Data = \", row[9])\n",
        "          image = row[10]\n",
        "          print(\"Storing employee image and bio-data on disk \\n\")\n",
        "          new_path = path + \"/\" + row[0] + \".jpg\"\n",
        "          print(new_path)\n",
        "          write_file(image, new_path)\n",
        "\n",
        "  except mysql.connector.Error as error:\n",
        "      print(\"Failed to read BLOB data from MySQL table {}\".format(error))\n",
        "\n",
        "  finally:\n",
        "      if (mydb.is_connected()):\n",
        "          mycursor.close()\n",
        "          mydb.close()\n",
        "          print(\"MySQL connection is closed\")\n"
      ],
      "execution_count": null,
      "outputs": []
    },
    {
      "cell_type": "code",
      "metadata": {
        "colab": {
          "base_uri": "https://localhost:8080/"
        },
        "id": "1AUI-9ya0H1o",
        "outputId": "be406b84-5438-4252-e6f4-d951575d07af"
      },
      "source": [
        "resumeFilter(\"/content/test1\", \"engineer\", \"BS\", \"\", \"python\")"
      ],
      "execution_count": null,
      "outputs": [
        {
          "output_type": "stream",
          "text": [
            "Connection to MySQL DB successful\n",
            "Reading BLOB data from python_employee table\n"
          ],
          "name": "stdout"
        },
        {
          "output_type": "stream",
          "text": [
            "IOPub data rate exceeded.\n",
            "The notebook server will temporarily stop sending output\n",
            "to the client in order to avoid crashing it.\n",
            "To change this limit, set the config variable\n",
            "`--NotebookApp.iopub_data_rate_limit`.\n",
            "\n",
            "Current values:\n",
            "NotebookApp.iopub_data_rate_limit=1000000.0 (bytes/sec)\n",
            "NotebookApp.rate_limit_window=3.0 (secs)\n",
            "\n"
          ],
          "name": "stderr"
        }
      ]
    }
  ]
}