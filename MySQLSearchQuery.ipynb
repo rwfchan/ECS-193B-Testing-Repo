{
  "nbformat": 4,
  "nbformat_minor": 0,
  "metadata": {
    "colab": {
      "name": "MySQLSearchQueryBeta.ipynb",
      "provenance": [],
      "collapsed_sections": [],
      "include_colab_link": true
    },
    "kernelspec": {
      "name": "python3",
      "display_name": "Python 3"
    },
    "language_info": {
      "name": "python"
    }
  },
  "cells": [
    {
      "cell_type": "markdown",
      "metadata": {
        "id": "view-in-github",
        "colab_type": "text"
      },
      "source": [
        "<a href=\"https://colab.research.google.com/github/rwfchan/ResumeScanner/blob/main/MySQLSearchQuery.ipynb\" target=\"_parent\"><img src=\"https://colab.research.google.com/assets/colab-badge.svg\" alt=\"Open In Colab\"/></a>"
      ]
    },
    {
      "cell_type": "code",
      "metadata": {
        "id": "1AUI-9ya0H1o"
      },
      "source": [
        "# 1st parameter: folder path\n",
        "# 2nd parameter: job title query\n",
        "# 3rd parameter: degree query\n",
        "# 4th parameter: major query\n",
        "# 5th parameter: skill query\n",
        "resumeFilter(\"\", \"\", \"\", \"\", \"\")"
      ],
      "execution_count": null,
      "outputs": []
    },
    {
      "cell_type": "code",
      "metadata": {
        "id": "C4uiE0uQM8Bw"
      },
      "source": [
        "# 1st parameter: folder path\n",
        "# 2nd parameter: partial query call to user's MySQL database\n",
        "#                \"[column_name1] LIKE '%[keyword1]%' AND '%[keyword2]%' AND [column_name2] LIKE '%[keyword3]%'...\"\n",
        "#                where column_namex can be [\"Name, Organization, Position, Email, Phone, Skill, SchoolName, SchoolDegree\"]\n",
        "\n",
        "resumeQuery(\"\", \"\")"
      ],
      "execution_count": null,
      "outputs": []
    },
    {
      "cell_type": "code",
      "metadata": {
        "id": "jurtslKNIdRP"
      },
      "source": [
        "pip install mysql-connector-python"
      ],
      "execution_count": null,
      "outputs": []
    },
    {
      "cell_type": "code",
      "metadata": {
        "id": "pUwIZpJwy_cm"
      },
      "source": [
        "import mysql.connector\n",
        "import os\n",
        "\n",
        "def resumeFilter(path, jobs = None, degrees = None, majors = None , skills = None):\n",
        "  try:\n",
        "    # need to delete the database information when move to beta version\n",
        "    mydb = mysql.connector.connect(host=\"Enter Host Address\", user=\"Enter Username\", passwd=\"Enter Password\", database=\"Enter Database Name\")\n",
        "    print(\"Connection to MySQL DB successful\")\n",
        "  except Error as e:\n",
        "    print(f\"The error '{e}' occurred\")\n",
        "  \n",
        "  mycursor = mydb.cursor()\n",
        "\n",
        "  job_list = []\n",
        "  degree = []\n",
        "  skill_list = []\n",
        "  major_list = []\n",
        "\n",
        "  if jobs:\n",
        "    for job in jobs.split(' '):\n",
        "      job_list.append(job)\n",
        "  \n",
        "  if majors:\n",
        "    for major in majors.split(' '):\n",
        "      major_list.append(major)\n",
        "  \n",
        "  if degrees:\n",
        "    degrees = degrees.lower()\n",
        "    if degrees[0] == 'b':\n",
        "      degree = ['BS','B S', 'bachelor']\n",
        "    elif degrees[0] == 'm':\n",
        "      degree = ['master', 'M S', 'MS']\n",
        "    elif degrees[0] == 'p':\n",
        "      degree = ['PhD', 'Ph D', 'Philosophy']\n",
        "    else:\n",
        "      print('no such degree')\n",
        "      degree = []\n",
        "  \n",
        "  if skills:\n",
        "    skill_list = skills.split(',')\n",
        "  \n",
        "  # need to change the database and table name\n",
        "  query = \"SELECT * FROM csv_output.resume_scanner_beta WHERE \"\n",
        "\n",
        "  if job_list:\n",
        "    job_query = \"(\"\n",
        "    for job in job_list:\n",
        "      job_query += \"Position LIKE '%\" + job + \"%' AND \"\n",
        "    job_query = job_query[:-5] + \")\"\n",
        "    query += job_query\n",
        "\n",
        "  if job_list and degree:\n",
        "    query += \" AND \"\n",
        "  \n",
        "  if degree:\n",
        "    degree_query = \"(\"\n",
        "    for degree_title in degree:\n",
        "      degree_query += \"SchoolDegree LIKE '%\" + degree_title + \"%' OR \"\n",
        "    degree_query = degree_query[:-4] + \")\"\n",
        "    query += degree_query\n",
        "\n",
        "  if (job_list or degree) and skill_list:\n",
        "    query += \" AND \"\n",
        "  \n",
        "  if skill_list:\n",
        "    skill_query = \"(\"\n",
        "    for skill in skill_list:\n",
        "      skill_query += \"Skill LIKE '%\" + skill + \"%' AND \"\n",
        "    skill_query = skill_query[:-5] + \")\"\n",
        "    query += skill_query\n",
        "  \n",
        "  if (job_list or degree or skill_list) and major_list:\n",
        "    query += \" AND \"\n",
        "  \n",
        "  if major_list:\n",
        "    major_query = \"(\"\n",
        "    for major in major_list:\n",
        "      major_query += \"SchoolDegree LIKE '%\" + major + \"%' AND \"\n",
        "    major_query = major_query[:-5] + \")\"\n",
        "    query += major_query\n",
        "  \n",
        "  import pandas as pd\n",
        "  print(\"Reading BLOB data from resume_scanner_beta table\")\n",
        "\n",
        "  try:\n",
        "        \n",
        "      mycursor.execute(query)\n",
        "      record = mycursor.fetchall()\n",
        "      print(record)\n",
        "\n",
        "      directory = 'output'\n",
        "      dir_path = os.path.join(path,directory)\n",
        "\n",
        "      if not os.path.isdir(dir_path):\n",
        "        os.mkdir(dir_path)\n",
        "\n",
        "      for row in record:\n",
        "          image = row[9]\n",
        "          print(\"Storing employee image and bio-data on disk \\n\")\n",
        "          new_path = dir_path + \"/\" + row[0][2:-2] + \".jpg\"\n",
        "          write_file(image, new_path)\n",
        "\n",
        "  except mysql.connector.Error as error:\n",
        "      print(\"Failed to read BLOB data from MySQL table {}\".format(error))\n",
        "\n",
        "  finally:\n",
        "      if (mydb.is_connected()):\n",
        "          mycursor.close()\n",
        "          mydb.close()\n",
        "          print(\"MySQL connection is closed\")"
      ],
      "execution_count": null,
      "outputs": []
    },
    {
      "cell_type": "code",
      "metadata": {
        "id": "H4TBNeV7MxJ1"
      },
      "source": [
        "# SQL injection\n",
        "# input: folder path, sql query\n",
        "# output: the jpg file\n",
        "import mysql.connector\n",
        "import os\n",
        "\n",
        "def resumeQuery(path, user_query):\n",
        "  try:\n",
        "    # need to delete the database information when move to beta version\n",
        "    mydb = mysql.connector.connect(host=\"Enter Host Address\", user=\"Enter Username\", passwd=\"Enter Password\", database=\"Enter Database Name\")\n",
        "    print(\"Connection to MySQL DB successful\")\n",
        "  except Error as e:\n",
        "    print(f\"The error '{e}' occurred\")\n",
        "  \n",
        "  mycursor = mydb.cursor()\n",
        "  \n",
        "  # need to change the database and table name\n",
        "  query = \"SELECT * FROM csv_output.resume_scanner_beta WHERE \"\n",
        "\n",
        "  final_query = query + user_query\n",
        "\n",
        "  import pandas as pd\n",
        "  print(\"Reading BLOB data from resume_scanner_beta table\")\n",
        "\n",
        "  try:\n",
        "        \n",
        "      mycursor.execute(final_query)\n",
        "      record = mycursor.fetchall()\n",
        "      print(record)\n",
        "\n",
        "      directory = 'output'\n",
        "      dir_path = os.path.join(path,directory)\n",
        "\n",
        "      if not os.path.isdir(dir_path):\n",
        "        os.mkdir(dir_path)\n",
        "\n",
        "      for row in record:\n",
        "          image = row[9]\n",
        "          print(\"Storing employee image and bio-data on disk \\n\")\n",
        "          new_path = dir_path + \"/\" + row[0][2:-2] + \".jpg\"\n",
        "          write_file(image, new_path)\n",
        "\n",
        "  except mysql.connector.Error as error:\n",
        "      print(\"Failed to read BLOB data from MySQL table {}\".format(error))\n",
        "\n",
        "  finally:\n",
        "      if (mydb.is_connected()):\n",
        "          mycursor.close()\n",
        "          mydb.close()\n",
        "          print(\"MySQL connection is closed\")"
      ],
      "execution_count": null,
      "outputs": []
    },
    {
      "cell_type": "code",
      "metadata": {
        "id": "mwz-_1pIvdbc"
      },
      "source": [
        "def write_file(data, filename):\n",
        "    # Convert binary data to proper format and write it on Hard Disk\n",
        "    with open(filename, 'wb') as file:\n",
        "        file.write(data)"
      ],
      "execution_count": null,
      "outputs": []
    }
  ]
}